{
 "cells": [
  {
   "cell_type": "code",
   "execution_count": null,
   "metadata": {},
   "outputs": [],
   "source": [
    "# Install all required packages\n",
    "!pip install streamlit pandas numpy plotly scikit-learn umap-learn pyngrok\n",
    "\n",
    "# Import necessary libraries\n",
    "from google.colab import drive\n",
    "from pyngrok import ngrok\n",
    "import os\n",
    "\n",
    "# Mount Google Drive\n",
    "drive.mount('/content/drive')\n",
    "\n",
    "# Set the working directory to your project folder\n",
    "PROJECT_PATH = '/content/drive/MyDrive/anika-copy'  # Update this path\n",
    "os.chdir(PROJECT_PATH)\n",
    "\n",
    "# Install any project-specific requirements\n",
    "!pip install -r requirements.txt\n",
    "\n",
    "# Set up localtunnel (alternative to ngrok that doesn't require auth)\n",
    "!npm install -g localtunnel\n",
    "\n",
    "# Run Streamlit and create tunnel\n",
    "!streamlit run model.py &>/content/logs.txt & \n",
    "!sleep 5\n",
    "!lt --port 8501 > url.txt 2>&1 &\n",
    "!sleep 5\n",
    "!cat url.txt\n",
    "\n",
    "# Optional: Display logs in case of errors\n",
    "!cat /content/logs.txt"
   ]
  }
 ],
 "metadata": {
  "language_info": {
   "name": "python"
  }
 },
 "nbformat": 4,
 "nbformat_minor": 2
}
